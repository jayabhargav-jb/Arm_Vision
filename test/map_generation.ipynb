{
  "nbformat": 4,
  "nbformat_minor": 0,
  "metadata": {
    "colab": {
      "provenance": []
    },
    "kernelspec": {
      "name": "python3",
      "display_name": "Python 3"
    },
    "language_info": {
      "name": "python"
    }
  },
  "cells": [
    {
      "cell_type": "code",
      "execution_count": null,
      "metadata": {
        "colab": {
          "base_uri": "https://localhost:8080/"
        },
        "id": "vi_rViEO47FO",
        "outputId": "6c715028-7b17-4211-9ff1-fa40bc47fb02"
      },
      "outputs": [
        {
          "output_type": "stream",
          "name": "stdout",
          "text": [
            "   Unnamed: 0  arduino_angle  actual_angle\n",
            "0           0              0            68\n",
            "1           1             10            55\n",
            "2           2             20            50\n",
            "3           3             30            45\n",
            "4           4             40            38\n",
            "5           5             50            31\n",
            "6           6             60            29\n",
            "7           7             70            24\n",
            "8           8             80            17\n",
            "9           9             90            14\n",
            "   Unnamed: 0  arduino_angle  actual_angle\n",
            "0           0              0            68\n",
            "1           1             10            55\n",
            "2           2             20            50\n",
            "3           3             30            45\n",
            "4           4             40            38\n",
            "5           5             50            31\n",
            "6           6             60            29\n",
            "7           7             70            24\n",
            "8           8             80            17\n",
            "9           9             90            14\n"
          ]
        }
      ],
      "source": [
        "import pandas\n",
        "import numpy as np\n",
        "pandas_df_dict = pandas.read_excel(\"btm.xlsx\")\n",
        "\n",
        "print(pandas_df_dict)\n",
        "# pandas_df_dict = pandas_df_dict.drop(\"\", axis=1)\n",
        "\n",
        "\n",
        "btm_interpolated = pandas_df_dict.interpolate(method=\"polynomial\", order=5)\n",
        "# top_interpolated = pandas_df_dict[2].interpolate(method=\"polynomial\", order=5)\n",
        "\n",
        "# interpolated_df_dict = {0:}\n",
        "# top_np_arr = top_interpolated.to_numpy()\n",
        "# np.polyfit(top_interpolated)\n",
        "# print(top_np_arr)\n",
        "print(btm_interpolated)"
      ]
    },
    {
      "cell_type": "code",
      "source": [
        "import numpy\n",
        "pandas_df_dict.add((8, 8.5, numpy.NaN))\n",
        "print(pandas_df_dict)\n",
        "btm_interpolated = pandas_df_dict.interpolate(method=\"polynomial\", order=5)\n",
        "print(btm_interpolated)\n"
      ],
      "metadata": {
        "colab": {
          "base_uri": "https://localhost:8080/"
        },
        "id": "iwEoCHEV5w0Y",
        "outputId": "1ca88c20-3340-4aec-ddb2-ab60fc0d60a0"
      },
      "execution_count": null,
      "outputs": [
        {
          "output_type": "stream",
          "name": "stdout",
          "text": [
            "   Unnamed: 0  arduino_angle  actual_angle\n",
            "0           0              0            68\n",
            "1           1             10            55\n",
            "2           2             20            50\n",
            "3           3             30            45\n",
            "4           4             40            38\n",
            "5           5             50            31\n",
            "6           6             60            29\n",
            "7           7             70            24\n",
            "8           8             80            17\n",
            "9           9             90            14\n",
            "   Unnamed: 0  arduino_angle  actual_angle\n",
            "0           0              0            68\n",
            "1           1             10            55\n",
            "2           2             20            50\n",
            "3           3             30            45\n",
            "4           4             40            38\n",
            "5           5             50            31\n",
            "6           6             60            29\n",
            "7           7             70            24\n",
            "8           8             80            17\n",
            "9           9             90            14\n"
          ]
        }
      ]
    },
    {
      "cell_type": "code",
      "source": [
        "import csv\n",
        "import numpy as np\n",
        "import numpy.polynomial.polynomial as poly # Maybe need to use the newer package: https://stackoverflow.com/questions/18767523/fitting-data-with-numpy\n",
        "from matplotlib import pyplot as plt\n",
        "\n",
        "with open(\"btm.csv\", \"r\") as btm:\n",
        "    reader_obj = csv.reader(btm)\n",
        "    arduino_angles = list()\n",
        "    physical_angles = list()\n",
        "    j = 0\n",
        "    for i in reader_obj:\n",
        "        if j != 0:\n",
        "            # print(i[1], i[2])\n",
        "            arduino_angles.append(int(i[1]))\n",
        "            physical_angles.append(float(i[2]))\n",
        "        j = 1\n",
        "\n",
        "best_fit_btm = poly.polyfit(physical_angles, arduino_angles, 4)\n",
        "print(best_fit_btm)\n",
        "plt.plot(arduino_angles, physical_angles, 'o')\n",
        "\n",
        "# print(physical_angles, arduino_angles)\n",
        "\n",
        "trend_poly = np.poly1d(best_fit_btm)\n",
        "xs = [i for i in range(14, 68)]\n",
        "ys = poly.polyval(xs, best_fit_btm)\n",
        "# plt.plot(xs, ys, '-')\n",
        "plt.plot(ys, xs, '+')\n",
        "# plt.plot(btm_arr_1, trend_poly(btm_arr_1))\n"
      ],
      "metadata": {
        "id": "FO18CaV51L9u",
        "colab": {
          "base_uri": "https://localhost:8080/",
          "height": 483
        },
        "outputId": "856daf9f-e914-429b-c6ab-e8faff2d9b66"
      },
      "execution_count": 41,
      "outputs": [
        {
          "output_type": "stream",
          "name": "stdout",
          "text": [
            "[ 1.35976942e+02 -4.51701069e+00  1.09257558e-01 -2.00390181e-03\n",
            "  1.38400627e-05]\n"
          ]
        },
        {
          "output_type": "execute_result",
          "data": {
            "text/plain": [
              "[<matplotlib.lines.Line2D at 0x7e2c91f3aa70>]"
            ]
          },
          "metadata": {},
          "execution_count": 41
        },
        {
          "output_type": "display_data",
          "data": {
            "text/plain": [
              "<Figure size 640x480 with 1 Axes>"
            ],
            "image/png": "[encoded data removed]"
          },
          "metadata": {}
        }
      ]
    },
    {
      "cell_type": "code",
      "source": [
        "import csv\n",
        "import numpy as np\n",
        "import numpy.polynomial.polynomial as poly # Maybe need to use the newer package: https://stackoverflow.com/questions/18767523/fitting-data-with-numpy\n",
        "from matplotlib import pyplot as plt\n",
        "\n",
        "with open(\"top.csv\", \"r\") as btm:\n",
        "    reader_obj = csv.reader(btm)\n",
        "    arduino_angles = list()\n",
        "    physical_angles = list()\n",
        "    j = 0\n",
        "    for i in reader_obj:\n",
        "        if j != 0:\n",
        "            # print(i[1], i[2])\n",
        "            arduino_angles.append(int(i[1]))\n",
        "            physical_angles.append(float(i[2]))\n",
        "        j = 1\n",
        "\n",
        "best_fit_btm = poly.polyfit(physical_angles, arduino_angles, 11)\n",
        "print(best_fit_btm)\n",
        "plt.plot(arduino_angles, physical_angles, 'o')\n",
        "\n",
        "# print(physical_angles, arduino_angles)\n",
        "\n",
        "trend_poly = np.poly1d(best_fit_btm)\n",
        "xs = [i for i in range(-71, -25)]\n",
        "ys = poly.polyval(xs, best_fit_btm)\n",
        "# plt.plot(xs, ys, '-')\n",
        "plt.plot(ys, xs, '+')\n",
        "# plt.plot(btm_arr_1, trend_poly(btm_arr_1))\n"
      ],
      "metadata": {
        "colab": {
          "base_uri": "https://localhost:8080/",
          "height": 500
        },
        "id": "O_jwofUe1zIJ",
        "outputId": "6a11590a-0c6c-4f2a-84b6-ff33d0e42151"
      },
      "execution_count": 64,
      "outputs": [
        {
          "output_type": "stream",
          "name": "stdout",
          "text": [
            "[3.35529148e+06 8.84410306e+05 1.04328896e+05 7.27541210e+03\n",
            " 3.33457682e+02 1.05531503e+01 2.35430936e-01 3.70394212e-03\n",
            " 4.02870939e-05 2.88614537e-07 1.22600360e-09 2.34010917e-12]\n"
          ]
        },
        {
          "output_type": "execute_result",
          "data": {
            "text/plain": [
              "[<matplotlib.lines.Line2D at 0x7e2c91012440>]"
            ]
          },
          "metadata": {},
          "execution_count": 64
        },
        {
          "output_type": "display_data",
          "data": {
            "text/plain": [
              "<Figure size 640x480 with 1 Axes>"
            ],
            "image/png": "[encoded data removed]"
          },
          "metadata": {}
        }
      ]
    },
    {
      "cell_type": "code",
      "source": [
        "import csv\n",
        "import numpy as np\n",
        "import numpy.polynomial.polynomial as poly # Maybe need to use the newer package: https://stackoverflow.com/questions/18767523/fitting-data-with-numpy\n",
        "from matplotlib import pyplot as plt\n",
        "\n",
        "with open(\"mid.csv\", \"r\") as btm:\n",
        "    reader_obj = csv.reader(btm)\n",
        "    arduino_angles = list()\n",
        "    physical_angles = list()\n",
        "    j = 0\n",
        "    for i in reader_obj:\n",
        "        if j != 0:\n",
        "            # print(i[1], i[2])\n",
        "            arduino_angles.append(int(i[1]))\n",
        "            physical_angles.append(float(i[2]))\n",
        "        j = 1\n",
        "\n",
        "best_fit_btm = poly.polyfit(physical_angles, arduino_angles, 11)\n",
        "print(best_fit_btm)\n",
        "plt.plot(arduino_angles, physical_angles, 'o')\n",
        "\n",
        "# print(physical_angles, arduino_angles)\n",
        "\n",
        "trend_poly = np.poly1d(best_fit_btm)\n",
        "xs = [i for i in range(-58, -7)]\n",
        "ys = poly.polyval(xs, best_fit_btm)\n",
        "# plt.plot(xs, ys, '-')\n",
        "plt.plot(ys, xs, '+')\n",
        "# plt.plot(btm_arr_1, trend_poly(btm_arr_1))\n"
      ],
      "metadata": {
        "colab": {
          "base_uri": "https://localhost:8080/",
          "height": 499
        },
        "id": "GfEINpdH8BU1",
        "outputId": "07ac29f6-8e8d-4247-bb23-3359a0f09039"
      },
      "execution_count": 66,
      "outputs": [
        {
          "output_type": "stream",
          "name": "stdout",
          "text": [
            "[-2.31885589e+03 -1.29855133e+03 -2.87799053e+02 -3.59886151e+01\n",
            " -2.84267136e+00 -1.49601283e-01 -5.37399856e-03 -1.32283879e-04\n",
            " -2.19520825e-06 -2.34769509e-08 -1.46135153e-10 -4.02335473e-13]\n"
          ]
        },
        {
          "output_type": "execute_result",
          "data": {
            "text/plain": [
              "[<matplotlib.lines.Line2D at 0x7e2c90fe01c0>]"
            ]
          },
          "metadata": {},
          "execution_count": 66
        },
        {
          "output_type": "display_data",
          "data": {
            "text/plain": [
              "<Figure size 640x480 with 1 Axes>"
            ],
            "image/png": "[encoded data removed]"
          },
          "metadata": {}
        }
      ]
    }
  ]
}